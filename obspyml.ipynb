{
 "cells": [
  {
   "cell_type": "code",
   "execution_count": 1,
   "metadata": {},
   "outputs": [],
   "source": [
    "import pickle\n",
    "import numpy as np\n",
    "def save_streams(name, data):\n",
    "    with open(f'{name}.pkl', 'wb') as f:\n",
    "        pickle.dump(data, f)\n",
    "\n",
    "def load_streams(name):\n",
    "    with open(f'{name}.pkl', 'rb') as f:\n",
    "        loaded_dict = pickle.load(f)\n",
    "    return loaded_dict"
   ]
  },
  {
   "cell_type": "markdown",
   "metadata": {},
   "source": [
    "## ML"
   ]
  },
  {
   "cell_type": "code",
   "execution_count": 2,
   "metadata": {},
   "outputs": [
    {
     "name": "stdout",
     "output_type": "stream",
     "text": [
      "103 103\n",
      "(103, 13, 100) (103,)\n",
      "26 26\n",
      "(26, 13, 100) (26,)\n"
     ]
    }
   ],
   "source": [
    "train_data = load_streams('NEW_TRAIN_DATA')\n",
    "test_data = load_streams('NEW_TEST_DATA')\n",
    "\n",
    "X_train, y_train = np.array(train_data['X_train']), np.array(train_data['y_train'])\n",
    "y_train = np.array([d[0] for d in y_train])\n",
    "\n",
    "X_test, y_test = np.array(test_data['X_test']), np.array(test_data['y_test'])\n",
    "y_test = np.array([d[0] for d in y_test])\n",
    "\n",
    "# print(len(X_train), len(y_train)) # 103 103\n",
    "# print(X_train.shape, y_train.shape) # (103, 13, 100) (103,)\n",
    "\n",
    "# print(len(X_test), len(y_test)) # 26 26\n",
    "# print(X_test.shape, y_test.shape) # (16, 13, 100) (26,)\n",
    "\n",
    "n_steps = X_train.shape[1]\n",
    "n_features = X_train.shape[2]"
   ]
  },
  {
   "cell_type": "code",
   "execution_count": 10,
   "metadata": {},
   "outputs": [],
   "source": [
    "from numpy import array\n",
    "from keras.models import Sequential\n",
    "from keras.layers import LSTM\n",
    "from keras.layers import Dense"
   ]
  },
  {
   "cell_type": "code",
   "execution_count": 9,
   "metadata": {},
   "outputs": [
    {
     "name": "stdout",
     "output_type": "stream",
     "text": [
      "Model: \"sequential_5\"\n",
      "_________________________________________________________________\n",
      " Layer (type)                Output Shape              Param #   \n",
      "=================================================================\n",
      " lstm_5 (LSTM)               (None, 100)               80400     \n",
      "                                                                 \n",
      " dense_5 (Dense)             (None, 1)                 101       \n",
      "                                                                 \n",
      "=================================================================\n",
      "Total params: 80,501\n",
      "Trainable params: 80,501\n",
      "Non-trainable params: 0\n",
      "_________________________________________________________________\n",
      "None\n",
      "Accuracy: 23.08%\n"
     ]
    }
   ],
   "source": [
    "\n",
    "# # define model\n",
    "model = Sequential()\n",
    "model.add(LSTM(100, activation='sigmoid', input_shape=(n_steps, n_features)))\n",
    "model.add(Dense(1))\n",
    "model.compile(optimizer='adam', loss='binary_crossentropy', metrics=['accuracy'])\n",
    "print(model.summary())\n",
    "# fit model\n",
    "model.fit(X_train, y_train, epochs=200, verbose=0, validation_data=(X_test, y_test))\n",
    "\n",
    "scores = model.evaluate(X_test, y_test, verbose=0)\n",
    "print(\"Accuracy: %.2f%%\" % (scores[1]*100))\n",
    "\n",
    "# demonstrate prediction\n",
    "# x_input = np.array(X_test[0])\n",
    "# print(x_input)\n",
    "# x_input = x_input.reshape((1, n_steps, n_features))\n",
    "# print(x_input)\n",
    "# yhat = model.predict(x_input, verbose=0)\n",
    "# print(yhat, y_test[0])"
   ]
  }
 ],
 "metadata": {
  "kernelspec": {
   "display_name": "Python 3.8.10 64-bit",
   "language": "python",
   "name": "python3"
  },
  "language_info": {
   "codemirror_mode": {
    "name": "ipython",
    "version": 3
   },
   "file_extension": ".py",
   "mimetype": "text/x-python",
   "name": "python",
   "nbconvert_exporter": "python",
   "pygments_lexer": "ipython3",
   "version": "3.8.10"
  },
  "orig_nbformat": 4,
  "vscode": {
   "interpreter": {
    "hash": "e7370f93d1d0cde622a1f8e1c04877d8463912d04d973331ad4851f04de6915a"
   }
  }
 },
 "nbformat": 4,
 "nbformat_minor": 2
}
