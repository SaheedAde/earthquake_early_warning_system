{
 "cells": [
  {
   "cell_type": "code",
   "execution_count": 2,
   "metadata": {},
   "outputs": [],
   "source": [
    "import os\n",
    "import csv\n",
    "\n",
    "cwd = os.getcwd()\n",
    "DATA_PATH = '/kik_knet_data'\n",
    "ALL_DATA_PATH = f'{DATA_PATH}/all_data'\n",
    "RAW_DATA_PATH = f'{ALL_DATA_PATH}/selecteddata'\n",
    "\n",
    "\n",
    "attrs = [\n",
    "    'origin_time', 'latitude', 'longitude', 'depth', 'magnitude',\n",
    "    'station_code', 'station_latitude', 'station_longitude', 'station_height',\n",
    "    'record_time', 'sampling_frequency', 'duration_time', 'channel_number',\n",
    "    'scale_factor', 'max_acceleration', 'last_correction'\n",
    "]\n",
    "time_attrs = ['origin_time', 'record_time', 'duration_time', 'last_correction']\n",
    "\n",
    "def get_file_data(file_path):\n",
    "    result = {}\n",
    "    line_number = 0\n",
    "    strong_motion_data = []\n",
    "    with open(file_path) as f:\n",
    "        line = f.readline()\n",
    "        while line:\n",
    "            line = line.replace('\\n', '')\n",
    "            splitted_line = line.split(' ')\n",
    "            if line_number <  len(attrs):\n",
    "                attr = attrs[line_number]\n",
    "                if attr in time_attrs:\n",
    "                    result[attr] = f'{splitted_line[-2]} {splitted_line[-1]}'\n",
    "                else:\n",
    "                    result[attr] = f'{splitted_line[-1]}'\n",
    "            elif ('Memo.' not in line) and line_number >= len(attr):\n",
    "                for data in splitted_line:\n",
    "                    if not data: continue\n",
    "                    strong_motion_data.append(data)\n",
    "\n",
    "            line = f.readline()\n",
    "            line_number += 1\n",
    "        result['strong_motion_data'] = strong_motion_data\n",
    "        # result['strong_motion_data'] = strong_motion_data\n",
    "    return result\n",
    "\n",
    "def create_csv(path, fields, all_rows):\n",
    "    with open(cwd + path, 'w') as csvfile:\n",
    "        writer = csv.DictWriter(csvfile, fieldnames=fields)\n",
    "        writer.writeheader()\n",
    "        for data in all_rows:\n",
    "            writer.writerow(data)\n",
    "\n",
    "def create_csvs():\n",
    "    all_rows = []\n",
    "    strong_motion_data = []\n",
    "    for path, directories, files in os.walk(cwd + RAW_DATA_PATH):\n",
    "        for file in files:\n",
    "            if 'ps' not in file:\n",
    "                file_path = f'{path}/{file}'\n",
    "                file_data = get_file_data(file_path)\n",
    "                scale_factor = (file_data['scale_factor']).split('(gal)/')\n",
    "                scale_factor = int(scale_factor[0])/int(scale_factor[1])\n",
    "                strong_motion_data.append({\n",
    "                    'strong_motion_data': file_data['strong_motion_data'],\n",
    "                    'scale_factor': scale_factor\n",
    "                })\n",
    "                del file_data['strong_motion_data']\n",
    "                all_rows.append(file_data)\n",
    "\n",
    "    kik_knet_path = f'{ALL_DATA_PATH}/kik_knet.csv'\n",
    "    create_csv(kik_knet_path, attrs, all_rows)\n",
    "\n",
    "    strong_motion_path = f'{ALL_DATA_PATH}/kik_knet_strong_motion.csv'\n",
    "    create_csv(\n",
    "        strong_motion_path,\n",
    "        ['strong_motion_data', 'scale_factor'],\n",
    "        strong_motion_data\n",
    "    )\n",
    "\n",
    "# create_csvs()"
   ]
  },
  {
   "cell_type": "code",
   "execution_count": 3,
   "metadata": {},
   "outputs": [],
   "source": [
    "import pandas as pd\n",
    "\n",
    "def load_kiknet_data(csv_path):\n",
    "    print(csv_path)\n",
    "    return pd.read_csv(csv_path)"
   ]
  },
  {
   "cell_type": "code",
   "execution_count": 4,
   "metadata": {},
   "outputs": [
    {
     "name": "stdout",
     "output_type": "stream",
     "text": [
      "/home/adebowale/code/proj/kik_knet_data/all_data/kik_knet.csv\n"
     ]
    },
    {
     "data": {
      "text/html": [
       "<div>\n",
       "<style scoped>\n",
       "    .dataframe tbody tr th:only-of-type {\n",
       "        vertical-align: middle;\n",
       "    }\n",
       "\n",
       "    .dataframe tbody tr th {\n",
       "        vertical-align: top;\n",
       "    }\n",
       "\n",
       "    .dataframe thead th {\n",
       "        text-align: right;\n",
       "    }\n",
       "</style>\n",
       "<table border=\"1\" class=\"dataframe\">\n",
       "  <thead>\n",
       "    <tr style=\"text-align: right;\">\n",
       "      <th></th>\n",
       "      <th>origin_time</th>\n",
       "      <th>latitude</th>\n",
       "      <th>longitude</th>\n",
       "      <th>depth</th>\n",
       "      <th>magnitude</th>\n",
       "      <th>station_code</th>\n",
       "      <th>station_latitude</th>\n",
       "      <th>station_longitude</th>\n",
       "      <th>station_height</th>\n",
       "      <th>record_time</th>\n",
       "      <th>sampling_frequency</th>\n",
       "      <th>duration_time</th>\n",
       "      <th>channel_number</th>\n",
       "      <th>scale_factor</th>\n",
       "      <th>max_acceleration</th>\n",
       "      <th>last_correction</th>\n",
       "    </tr>\n",
       "  </thead>\n",
       "  <tbody>\n",
       "    <tr>\n",
       "      <th>0</th>\n",
       "      <td>2007/03/25 09:42:00</td>\n",
       "      <td>37.220</td>\n",
       "      <td>136.685</td>\n",
       "      <td>11</td>\n",
       "      <td>6.9</td>\n",
       "      <td>ISK004</td>\n",
       "      <td>37.3080</td>\n",
       "      <td>137.1471</td>\n",
       "      <td>9.0</td>\n",
       "      <td>2007/03/25 09:42:06</td>\n",
       "      <td>100Hz</td>\n",
       "      <td>205</td>\n",
       "      <td>E-W</td>\n",
       "      <td>3920(gal)/6182761</td>\n",
       "      <td>588.811</td>\n",
       "      <td>2007/03/25 09:41:51</td>\n",
       "    </tr>\n",
       "    <tr>\n",
       "      <th>1</th>\n",
       "      <td>2007/03/25 09:42:00</td>\n",
       "      <td>37.220</td>\n",
       "      <td>136.685</td>\n",
       "      <td>11</td>\n",
       "      <td>6.9</td>\n",
       "      <td>ISK004</td>\n",
       "      <td>37.3080</td>\n",
       "      <td>137.1471</td>\n",
       "      <td>9.0</td>\n",
       "      <td>2007/03/25 09:42:06</td>\n",
       "      <td>100Hz</td>\n",
       "      <td>205</td>\n",
       "      <td>N-S</td>\n",
       "      <td>3920(gal)/6182761</td>\n",
       "      <td>622.189</td>\n",
       "      <td>2007/03/25 09:41:51</td>\n",
       "    </tr>\n",
       "    <tr>\n",
       "      <th>2</th>\n",
       "      <td>2007/03/25 09:42:00</td>\n",
       "      <td>37.220</td>\n",
       "      <td>136.685</td>\n",
       "      <td>11</td>\n",
       "      <td>6.9</td>\n",
       "      <td>ISK004</td>\n",
       "      <td>37.3080</td>\n",
       "      <td>137.1471</td>\n",
       "      <td>9.0</td>\n",
       "      <td>2007/03/25 09:42:06</td>\n",
       "      <td>100Hz</td>\n",
       "      <td>205</td>\n",
       "      <td>U-D</td>\n",
       "      <td>3920(gal)/6182761</td>\n",
       "      <td>146.877</td>\n",
       "      <td>2007/03/25 09:41:51</td>\n",
       "    </tr>\n",
       "    <tr>\n",
       "      <th>3</th>\n",
       "      <td>2016/04/16 01:25:00</td>\n",
       "      <td>32.753</td>\n",
       "      <td>130.762</td>\n",
       "      <td>12</td>\n",
       "      <td>7.3</td>\n",
       "      <td>KMM009</td>\n",
       "      <td>32.6858</td>\n",
       "      <td>130.9856</td>\n",
       "      <td>443.0</td>\n",
       "      <td>2016/04/16 01:25:10</td>\n",
       "      <td>100Hz</td>\n",
       "      <td>300</td>\n",
       "      <td>E-W</td>\n",
       "      <td>3920(gal)/6182761</td>\n",
       "      <td>639.537</td>\n",
       "      <td>2016/04/16 01:25:10</td>\n",
       "    </tr>\n",
       "    <tr>\n",
       "      <th>4</th>\n",
       "      <td>2016/04/16 01:25:00</td>\n",
       "      <td>32.753</td>\n",
       "      <td>130.762</td>\n",
       "      <td>12</td>\n",
       "      <td>7.3</td>\n",
       "      <td>KMM009</td>\n",
       "      <td>32.6858</td>\n",
       "      <td>130.9856</td>\n",
       "      <td>443.0</td>\n",
       "      <td>2016/04/16 01:25:10</td>\n",
       "      <td>100Hz</td>\n",
       "      <td>300</td>\n",
       "      <td>U-D</td>\n",
       "      <td>3920(gal)/6182761</td>\n",
       "      <td>186.616</td>\n",
       "      <td>2016/04/16 01:25:10</td>\n",
       "    </tr>\n",
       "  </tbody>\n",
       "</table>\n",
       "</div>"
      ],
      "text/plain": [
       "           origin_time  latitude  longitude  depth  magnitude station_code  \\\n",
       "0  2007/03/25 09:42:00    37.220    136.685     11        6.9       ISK004   \n",
       "1  2007/03/25 09:42:00    37.220    136.685     11        6.9       ISK004   \n",
       "2  2007/03/25 09:42:00    37.220    136.685     11        6.9       ISK004   \n",
       "3  2016/04/16 01:25:00    32.753    130.762     12        7.3       KMM009   \n",
       "4  2016/04/16 01:25:00    32.753    130.762     12        7.3       KMM009   \n",
       "\n",
       "   station_latitude  station_longitude  station_height          record_time  \\\n",
       "0           37.3080           137.1471             9.0  2007/03/25 09:42:06   \n",
       "1           37.3080           137.1471             9.0  2007/03/25 09:42:06   \n",
       "2           37.3080           137.1471             9.0  2007/03/25 09:42:06   \n",
       "3           32.6858           130.9856           443.0  2016/04/16 01:25:10   \n",
       "4           32.6858           130.9856           443.0  2016/04/16 01:25:10   \n",
       "\n",
       "  sampling_frequency  duration_time channel_number       scale_factor  \\\n",
       "0              100Hz            205            E-W  3920(gal)/6182761   \n",
       "1              100Hz            205            N-S  3920(gal)/6182761   \n",
       "2              100Hz            205            U-D  3920(gal)/6182761   \n",
       "3              100Hz            300            E-W  3920(gal)/6182761   \n",
       "4              100Hz            300            U-D  3920(gal)/6182761   \n",
       "\n",
       "   max_acceleration      last_correction  \n",
       "0           588.811  2007/03/25 09:41:51  \n",
       "1           622.189  2007/03/25 09:41:51  \n",
       "2           146.877  2007/03/25 09:41:51  \n",
       "3           639.537  2016/04/16 01:25:10  \n",
       "4           186.616  2016/04/16 01:25:10  "
      ]
     },
     "execution_count": 4,
     "metadata": {},
     "output_type": "execute_result"
    }
   ],
   "source": [
    "earthquake = load_kiknet_data(f'{cwd}{ALL_DATA_PATH}/kik_knet.csv')\n",
    "earthquake.head()"
   ]
  },
  {
   "cell_type": "code",
   "execution_count": 5,
   "metadata": {},
   "outputs": [
    {
     "name": "stdout",
     "output_type": "stream",
     "text": [
      "<class 'pandas.core.frame.DataFrame'>\n",
      "RangeIndex: 660 entries, 0 to 659\n",
      "Data columns (total 16 columns):\n",
      " #   Column              Non-Null Count  Dtype  \n",
      "---  ------              --------------  -----  \n",
      " 0   origin_time         660 non-null    object \n",
      " 1   latitude            660 non-null    float64\n",
      " 2   longitude           660 non-null    float64\n",
      " 3   depth               660 non-null    int64  \n",
      " 4   magnitude           660 non-null    float64\n",
      " 5   station_code        660 non-null    object \n",
      " 6   station_latitude    660 non-null    float64\n",
      " 7   station_longitude   660 non-null    float64\n",
      " 8   station_height      660 non-null    float64\n",
      " 9   record_time         660 non-null    object \n",
      " 10  sampling_frequency  660 non-null    object \n",
      " 11  duration_time       660 non-null    int64  \n",
      " 12  channel_number      660 non-null    object \n",
      " 13  scale_factor        660 non-null    object \n",
      " 14  max_acceleration    660 non-null    float64\n",
      " 15  last_correction     660 non-null    object \n",
      "dtypes: float64(7), int64(2), object(7)\n",
      "memory usage: 82.6+ KB\n"
     ]
    }
   ],
   "source": [
    "earthquake.info()"
   ]
  },
  {
   "cell_type": "code",
   "execution_count": 6,
   "metadata": {},
   "outputs": [
    {
     "data": {
      "text/plain": [
       "IBRH13    48\n",
       "KMMH16    24\n",
       "IWTH25    24\n",
       "IBRH14    18\n",
       "NIGH01    18\n",
       "          ..\n",
       "MYG004     3\n",
       "KMM004     3\n",
       "ISK006     3\n",
       "SMN003     3\n",
       "TKY008     3\n",
       "Name: station_code, Length: 111, dtype: int64"
      ]
     },
     "execution_count": 6,
     "metadata": {},
     "output_type": "execute_result"
    }
   ],
   "source": [
    "# 111 stations\n",
    "earthquake[\"station_code\"].value_counts()"
   ]
  },
  {
   "cell_type": "code",
   "execution_count": 7,
   "metadata": {},
   "outputs": [
    {
     "data": {
      "text/plain": [
       "100Hz    540\n",
       "200Hz    120\n",
       "Name: sampling_frequency, dtype: int64"
      ]
     },
     "execution_count": 7,
     "metadata": {},
     "output_type": "execute_result"
    }
   ],
   "source": [
    "earthquake[\"sampling_frequency\"].value_counts()"
   ]
  },
  {
   "cell_type": "code",
   "execution_count": 8,
   "metadata": {},
   "outputs": [
    {
     "data": {
      "text/plain": [
       "E-W    80\n",
       "N-S    80\n",
       "U-D    80\n",
       "4      70\n",
       "2      70\n",
       "1      70\n",
       "5      70\n",
       "6      70\n",
       "3      70\n",
       "Name: channel_number, dtype: int64"
      ]
     },
     "execution_count": 8,
     "metadata": {},
     "output_type": "execute_result"
    }
   ],
   "source": [
    "# K-NET: [NS, EW, UD]\n",
    "# KiK-net: {\n",
    "#   borehole: [(1, NS1), (2, EW1), (3, UD1)]\n",
    "#   surface:  [(4, NS2), (5, EW2), (6, UD2)]\n",
    "# }\n",
    "earthquake[\"channel_number\"].value_counts()"
   ]
  },
  {
   "cell_type": "code",
   "execution_count": 9,
   "metadata": {},
   "outputs": [
    {
     "data": {
      "text/plain": [
       "2000(gal)/8388608    195\n",
       "3920(gal)/6170801    144\n",
       "3920(gal)/6182761    135\n",
       "2940(gal)/6170270    132\n",
       "7845(gal)/8223790     39\n",
       "3923(gal)/8224838      9\n",
       "2942(gal)/8224139      6\n",
       "Name: scale_factor, dtype: int64"
      ]
     },
     "execution_count": 9,
     "metadata": {},
     "output_type": "execute_result"
    }
   ],
   "source": [
    "earthquake[\"scale_factor\"].value_counts()"
   ]
  },
  {
   "cell_type": "code",
   "execution_count": 10,
   "metadata": {},
   "outputs": [
    {
     "name": "stdout",
     "output_type": "stream",
     "text": [
      "<class 'pandas.core.frame.DataFrame'>\n",
      "RangeIndex: 660 entries, 0 to 659\n",
      "Data columns (total 16 columns):\n",
      " #   Column              Non-Null Count  Dtype  \n",
      "---  ------              --------------  -----  \n",
      " 0   origin_time         660 non-null    object \n",
      " 1   latitude            660 non-null    float64\n",
      " 2   longitude           660 non-null    float64\n",
      " 3   depth               660 non-null    int64  \n",
      " 4   magnitude           660 non-null    float64\n",
      " 5   station_code        660 non-null    object \n",
      " 6   station_latitude    660 non-null    float64\n",
      " 7   station_longitude   660 non-null    float64\n",
      " 8   station_height      654 non-null    float64\n",
      " 9   record_time         660 non-null    object \n",
      " 10  sampling_frequency  660 non-null    object \n",
      " 11  duration_time       660 non-null    int64  \n",
      " 12  channel_number      660 non-null    object \n",
      " 13  scale_factor        660 non-null    object \n",
      " 14  max_acceleration    660 non-null    float64\n",
      " 15  last_correction     660 non-null    object \n",
      "dtypes: float64(7), int64(2), object(7)\n",
      "memory usage: 82.6+ KB\n"
     ]
    }
   ],
   "source": [
    "# clean station height and set the missing height (-9999) to nan\n",
    "earthquake.loc[earthquake['station_height'] == -9999, 'station_height'] = pd.NA\n",
    "earthquake['station_height'] = pd.to_numeric(earthquake['station_height'], errors='coerce')\n",
    "earthquake.info()"
   ]
  },
  {
   "cell_type": "code",
   "execution_count": 11,
   "metadata": {},
   "outputs": [
    {
     "data": {
      "text/html": [
       "<div>\n",
       "<style scoped>\n",
       "    .dataframe tbody tr th:only-of-type {\n",
       "        vertical-align: middle;\n",
       "    }\n",
       "\n",
       "    .dataframe tbody tr th {\n",
       "        vertical-align: top;\n",
       "    }\n",
       "\n",
       "    .dataframe thead th {\n",
       "        text-align: right;\n",
       "    }\n",
       "</style>\n",
       "<table border=\"1\" class=\"dataframe\">\n",
       "  <thead>\n",
       "    <tr style=\"text-align: right;\">\n",
       "      <th></th>\n",
       "      <th>latitude</th>\n",
       "      <th>longitude</th>\n",
       "      <th>depth</th>\n",
       "      <th>magnitude</th>\n",
       "      <th>station_latitude</th>\n",
       "      <th>station_longitude</th>\n",
       "      <th>station_height</th>\n",
       "      <th>duration_time</th>\n",
       "      <th>max_acceleration</th>\n",
       "    </tr>\n",
       "  </thead>\n",
       "  <tbody>\n",
       "    <tr>\n",
       "      <th>count</th>\n",
       "      <td>660.000000</td>\n",
       "      <td>660.000000</td>\n",
       "      <td>660.000000</td>\n",
       "      <td>660.000000</td>\n",
       "      <td>660.000000</td>\n",
       "      <td>660.000000</td>\n",
       "      <td>654.000000</td>\n",
       "      <td>660.000000</td>\n",
       "      <td>660.000000</td>\n",
       "    </tr>\n",
       "    <tr>\n",
       "      <th>mean</th>\n",
       "      <td>36.878227</td>\n",
       "      <td>138.001245</td>\n",
       "      <td>23.468182</td>\n",
       "      <td>6.271818</td>\n",
       "      <td>36.889952</td>\n",
       "      <td>137.983746</td>\n",
       "      <td>187.740055</td>\n",
       "      <td>229.327273</td>\n",
       "      <td>395.718338</td>\n",
       "    </tr>\n",
       "    <tr>\n",
       "      <th>std</th>\n",
       "      <td>2.718758</td>\n",
       "      <td>3.848751</td>\n",
       "      <td>27.069862</td>\n",
       "      <td>0.887406</td>\n",
       "      <td>2.750791</td>\n",
       "      <td>3.826066</td>\n",
       "      <td>243.628076</td>\n",
       "      <td>78.203378</td>\n",
       "      <td>326.441993</td>\n",
       "    </tr>\n",
       "    <tr>\n",
       "      <th>min</th>\n",
       "      <td>31.383000</td>\n",
       "      <td>130.620000</td>\n",
       "      <td>3.000000</td>\n",
       "      <td>3.700000</td>\n",
       "      <td>31.374100</td>\n",
       "      <td>130.433300</td>\n",
       "      <td>-197.000000</td>\n",
       "      <td>67.000000</td>\n",
       "      <td>21.144000</td>\n",
       "    </tr>\n",
       "    <tr>\n",
       "      <th>25%</th>\n",
       "      <td>34.929250</td>\n",
       "      <td>134.713500</td>\n",
       "      <td>8.000000</td>\n",
       "      <td>5.700000</td>\n",
       "      <td>34.963625</td>\n",
       "      <td>134.672450</td>\n",
       "      <td>35.000000</td>\n",
       "      <td>157.000000</td>\n",
       "      <td>146.828250</td>\n",
       "    </tr>\n",
       "    <tr>\n",
       "      <th>50%</th>\n",
       "      <td>36.895000</td>\n",
       "      <td>139.131500</td>\n",
       "      <td>11.000000</td>\n",
       "      <td>6.500000</td>\n",
       "      <td>36.838150</td>\n",
       "      <td>139.103000</td>\n",
       "      <td>86.000000</td>\n",
       "      <td>248.000000</td>\n",
       "      <td>353.382500</td>\n",
       "    </tr>\n",
       "    <tr>\n",
       "      <th>75%</th>\n",
       "      <td>38.808000</td>\n",
       "      <td>140.880000</td>\n",
       "      <td>24.000000</td>\n",
       "      <td>7.000000</td>\n",
       "      <td>38.860375</td>\n",
       "      <td>140.863800</td>\n",
       "      <td>330.000000</td>\n",
       "      <td>300.000000</td>\n",
       "      <td>544.772000</td>\n",
       "    </tr>\n",
       "    <tr>\n",
       "      <th>max</th>\n",
       "      <td>44.075000</td>\n",
       "      <td>143.110000</td>\n",
       "      <td>108.000000</td>\n",
       "      <td>7.300000</td>\n",
       "      <td>44.148700</td>\n",
       "      <td>143.152000</td>\n",
       "      <td>1150.000000</td>\n",
       "      <td>568.000000</td>\n",
       "      <td>3866.009000</td>\n",
       "    </tr>\n",
       "  </tbody>\n",
       "</table>\n",
       "</div>"
      ],
      "text/plain": [
       "         latitude   longitude       depth   magnitude  station_latitude  \\\n",
       "count  660.000000  660.000000  660.000000  660.000000        660.000000   \n",
       "mean    36.878227  138.001245   23.468182    6.271818         36.889952   \n",
       "std      2.718758    3.848751   27.069862    0.887406          2.750791   \n",
       "min     31.383000  130.620000    3.000000    3.700000         31.374100   \n",
       "25%     34.929250  134.713500    8.000000    5.700000         34.963625   \n",
       "50%     36.895000  139.131500   11.000000    6.500000         36.838150   \n",
       "75%     38.808000  140.880000   24.000000    7.000000         38.860375   \n",
       "max     44.075000  143.110000  108.000000    7.300000         44.148700   \n",
       "\n",
       "       station_longitude  station_height  duration_time  max_acceleration  \n",
       "count         660.000000      654.000000     660.000000        660.000000  \n",
       "mean          137.983746      187.740055     229.327273        395.718338  \n",
       "std             3.826066      243.628076      78.203378        326.441993  \n",
       "min           130.433300     -197.000000      67.000000         21.144000  \n",
       "25%           134.672450       35.000000     157.000000        146.828250  \n",
       "50%           139.103000       86.000000     248.000000        353.382500  \n",
       "75%           140.863800      330.000000     300.000000        544.772000  \n",
       "max           143.152000     1150.000000     568.000000       3866.009000  "
      ]
     },
     "execution_count": 11,
     "metadata": {},
     "output_type": "execute_result"
    }
   ],
   "source": [
    "earthquake.describe()"
   ]
  },
  {
   "cell_type": "code",
   "execution_count": 12,
   "metadata": {},
   "outputs": [
    {
     "name": "stdout",
     "output_type": "stream",
     "text": [
      "Saving figure attribute_histogram_plots\n"
     ]
    },
    {
     "data": {
      "image/png": "[encoded data removed]",
      "text/plain": [
       "<Figure size 1440x1080 with 9 Axes>"
      ]
     },
     "metadata": {
      "needs_background": "light"
     },
     "output_type": "display_data"
    }
   ],
   "source": [
    "# we can also check the summary by plotting a histogram for all the attrs\n",
    "\n",
    "\n",
    "# Where to save the figures\n",
    "PROJECT_ROOT_DIR = \".\"\n",
    "NAME = \"kik_knet\"\n",
    "IMAGES_PATH = os.path.join(PROJECT_ROOT_DIR, \"images\", NAME)\n",
    "os.makedirs(IMAGES_PATH, exist_ok=True)\n",
    "\n",
    "def save_fig(fig_id, tight_layout=True, fig_extension=\"png\", resolution=300):\n",
    "    path = os.path.join(IMAGES_PATH, fig_id + \".\" + fig_extension)\n",
    "    print(\"Saving figure\", fig_id)\n",
    "    if tight_layout:\n",
    "        plt.tight_layout()\n",
    "    plt.savefig(path, format=fig_extension, dpi=resolution)\n",
    "\n",
    "%matplotlib inline\n",
    "import matplotlib.pyplot as plt\n",
    "earthquake.hist(bins=50, figsize=(20,15))\n",
    "save_fig(\"attribute_histogram_plots\")\n",
    "plt.show()"
   ]
  },
  {
   "cell_type": "code",
   "execution_count": 13,
   "metadata": {},
   "outputs": [
    {
     "data": {
      "text/plain": [
       "<AxesSubplot:xlabel='station_longitude', ylabel='station_latitude'>"
      ]
     },
     "execution_count": 13,
     "metadata": {},
     "output_type": "execute_result"
    },
    {
     "data": {
      "image/png": "[encoded data removed]",
      "text/plain": [
       "<Figure size 432x288 with 1 Axes>"
      ]
     },
     "metadata": {
      "needs_background": "light"
     },
     "output_type": "display_data"
    }
   ],
   "source": [
    "# view geolocation data\n",
    "earthquake.plot(\n",
    "    kind=\"scatter\",\n",
    "    x=\"station_longitude\",\n",
    "    y=\"station_latitude\",\n",
    "    alpha=1.0\n",
    ")"
   ]
  },
  {
   "cell_type": "code",
   "execution_count": 14,
   "metadata": {},
   "outputs": [
    {
     "name": "stdout",
     "output_type": "stream",
     "text": [
      "Saving figure magnitude_acceration_scatterplot\n"
     ]
    },
    {
     "data": {
      "image/png": "[encoded data removed]",
      "text/plain": [
       "<Figure size 720x504 with 2 Axes>"
      ]
     },
     "metadata": {
      "needs_background": "light"
     },
     "output_type": "display_data"
    }
   ],
   "source": [
    "earthquake.plot(\n",
    "    kind=\"scatter\", x=\"longitude\", y=\"latitude\", alpha=0.1,\n",
    "    s=earthquake['max_acceleration']/7, label=\"Maximum acceleration\",\n",
    "    figsize=(10,7), c=\"magnitude\", cmap=plt.get_cmap('seismic'), colorbar=True,\n",
    "    sharex=False)\n",
    "plt.legend()\n",
    "save_fig(\"magnitude_acceration_scatterplot\")"
   ]
  },
  {
   "cell_type": "code",
   "execution_count": 15,
   "metadata": {},
   "outputs": [
    {
     "name": "stdout",
     "output_type": "stream",
     "text": [
      "Saving figure japan_magnitude_acceration_scatterplot\n"
     ]
    },
    {
     "data": {
      "image/png": "[encoded data removed]",
      "text/plain": [
       "<Figure size 648x612 with 2 Axes>"
      ]
     },
     "metadata": {
      "needs_background": "light"
     },
     "output_type": "display_data"
    }
   ],
   "source": [
    "PROJECT_ROOT_DIR = \".\"\n",
    "NAME = \"kik_knet\"\n",
    "IMAGES_PATH = os.path.join(PROJECT_ROOT_DIR, \"images\", NAME)\n",
    "os.makedirs(IMAGES_PATH, exist_ok=True)\n",
    "filename = 'japan2.png'\n",
    "\n",
    "import matplotlib.image as mpimg\n",
    "japan_img=mpimg.imread(os.path.join(IMAGES_PATH, filename))\n",
    "earthquake.plot(\n",
    "    kind=\"scatter\", x=\"longitude\", y=\"latitude\", alpha=0.1,\n",
    "    s=earthquake['max_acceleration']/7, label=\"Maximum acceleration\",\n",
    "    figsize=(9,8.5), c=\"magnitude\", cmap=plt.get_cmap('seismic'), colorbar=True,\n",
    "    sharex=False)\n",
    "\n",
    "plt.imshow(japan_img, extent=[130, 143.8, 30.1, 45], alpha=1.0,\n",
    "           cmap=plt.get_cmap(\"seismic\"))\n",
    "plt.legend()\n",
    "save_fig(\"japan_magnitude_acceration_scatterplot\")"
   ]
  },
  {
   "cell_type": "markdown",
   "metadata": {},
   "source": [
    "# create and visualise near source and far source data\n",
    "\n",
    "## far source example:\n",
    "##### station: IWTH21\n",
    "##### date: 2008/07/24 00:26:00\n",
    "##### depth: 108km\n",
    "##### magnitude: 6.8\n",
    "\n",
    "## near source example:\n",
    "##### station: TCGH07\n",
    "##### date: 2012/12/17 18:48:00\n",
    "##### depth: 3km\n",
    "##### magnitude: 3.7"
   ]
  },
  {
   "cell_type": "code",
   "execution_count": 40,
   "metadata": {},
   "outputs": [],
   "source": [
    "import math\n",
    "\n",
    "def create_data(folder_path):\n",
    "    all_files_data = []\n",
    "    strong_motion_data = []\n",
    "    for path, directories, files in os.walk(folder_path):\n",
    "        for file in files:\n",
    "            if 'ps' in file: continue\n",
    "            file_path = f'{path}/{file}'\n",
    "            file_data = get_file_data(file_path)\n",
    "            scale_factor = (file_data['scale_factor']).split('(gal)/')\n",
    "            file_data['scale_factor'] = float(int(scale_factor[0])/int(scale_factor[1]))\n",
    "            all_files_data.append(file_data)\n",
    "\n",
    "    fname = folder_path.split('/')[-1]\n",
    "    fpath = f'{ALL_DATA_PATH}/{fname}.csv'\n",
    "\n",
    "    attrs = [\n",
    "        'time (s)',\n",
    "        'NS1_data',\n",
    "        # 'NS1_scale_factor',\n",
    "        'EW1_data',\n",
    "        # 'EW1_scale_factor',\n",
    "        'UD1_data',\n",
    "        # 'UD1_scale_factor',\n",
    "        'NS2_data',\n",
    "        # 'NS2_scale_factor',\n",
    "        'EW2_data',\n",
    "        # 'EW2_scale_factor',\n",
    "        'UD2_data',\n",
    "        # 'UD2_scale_factor',\n",
    "    ]\n",
    "    channel_map = {\n",
    "        '1': 'NS1', '2': 'EW1', '3': 'UD1',\n",
    "        '4': 'NS2', '5': 'EW2', '6': 'UD2'\n",
    "    }\n",
    "    zero, one, two, three, four, five = all_files_data\n",
    "    sf_zero, cn_zero = zero['scale_factor'], zero['channel_number']\n",
    "    sf_one, cn_one = one['scale_factor'], one['channel_number']\n",
    "    sf_two, cn_two = two['scale_factor'], two['channel_number']\n",
    "    sf_three, cn_three = three['scale_factor'], three['channel_number']\n",
    "    sf_four, cn_four = four['scale_factor'], four['channel_number']\n",
    "    sf_five, cn_five = five['scale_factor'], five['channel_number']\n",
    "\n",
    "    freq = int(zero['sampling_frequency'].split('Hz')[0])\n",
    "\n",
    "    for idx in range(len(zero['strong_motion_data'])):\n",
    "        d = {\n",
    "            'time (s)': float(idx/freq),\n",
    "            f'{channel_map[cn_zero]}_data': int(zero['strong_motion_data'][idx]) * sf_zero,\n",
    "            # f'{channel_map[cn_zero]}_scale_factor': sf_zero,\n",
    "            f'{channel_map[cn_one]}_data': int(one['strong_motion_data'][idx]) * sf_one,\n",
    "            # f'{channel_map[cn_one]}_scale_factor': sf_one,\n",
    "            f'{channel_map[cn_two]}_data': int(two['strong_motion_data'][idx]) * sf_two,\n",
    "            # f'{channel_map[cn_two]}_scale_factor': sf_two,\n",
    "            f'{channel_map[cn_three]}_data': int(three['strong_motion_data'][idx]) * sf_three,\n",
    "            # f'{channel_map[cn_three]}_scale_factor': sf_three,\n",
    "            f'{channel_map[cn_four]}_data': int(four['strong_motion_data'][idx]) * sf_four,\n",
    "            # f'{channel_map[cn_four]}_scale_factor': sf_four,\n",
    "            f'{channel_map[cn_five]}_data': int(five['strong_motion_data'][idx]) * sf_five,\n",
    "            # f'{channel_map[cn_five]}_scale_factor': sf_five,\n",
    "        }\n",
    "        strong_motion_data.append(d)\n",
    "\n",
    "    create_csv(fpath, attrs, strong_motion_data)\n",
    "\n",
    "\n",
    "folders = [\n",
    "    f'{cwd + RAW_DATA_PATH}/IWTH210807240026',\n",
    "    f'{cwd + RAW_DATA_PATH}/TCGH071212171848'\n",
    "]\n",
    "# for f in folders:\n",
    "#     create_data(f)"
   ]
  },
  {
   "cell_type": "code",
   "execution_count": 17,
   "metadata": {},
   "outputs": [
    {
     "name": "stdout",
     "output_type": "stream",
     "text": [
      "/home/adebowale/code/proj/kik_knet_data/all_data/IWTH210807240026.csv\n"
     ]
    },
    {
     "data": {
      "text/html": [
       "<div>\n",
       "<style scoped>\n",
       "    .dataframe tbody tr th:only-of-type {\n",
       "        vertical-align: middle;\n",
       "    }\n",
       "\n",
       "    .dataframe tbody tr th {\n",
       "        vertical-align: top;\n",
       "    }\n",
       "\n",
       "    .dataframe thead th {\n",
       "        text-align: right;\n",
       "    }\n",
       "</style>\n",
       "<table border=\"1\" class=\"dataframe\">\n",
       "  <thead>\n",
       "    <tr style=\"text-align: right;\">\n",
       "      <th></th>\n",
       "      <th>time (s)</th>\n",
       "      <th>NS1_data</th>\n",
       "      <th>EW1_data</th>\n",
       "      <th>UD1_data</th>\n",
       "      <th>NS2_data</th>\n",
       "      <th>EW2_data</th>\n",
       "      <th>UD2_data</th>\n",
       "    </tr>\n",
       "  </thead>\n",
       "  <tbody>\n",
       "    <tr>\n",
       "      <th>0</th>\n",
       "      <td>0</td>\n",
       "      <td>-3.099968</td>\n",
       "      <td>-11.831910</td>\n",
       "      <td>-12.046325</td>\n",
       "      <td>11.090826</td>\n",
       "      <td>-7.788798</td>\n",
       "      <td>-12.562064</td>\n",
       "    </tr>\n",
       "    <tr>\n",
       "      <th>1</th>\n",
       "      <td>0</td>\n",
       "      <td>-3.100445</td>\n",
       "      <td>-11.832863</td>\n",
       "      <td>-12.045372</td>\n",
       "      <td>11.101625</td>\n",
       "      <td>-7.792609</td>\n",
       "      <td>-12.556347</td>\n",
       "    </tr>\n",
       "    <tr>\n",
       "      <th>2</th>\n",
       "      <td>0</td>\n",
       "      <td>-3.100921</td>\n",
       "      <td>-11.831434</td>\n",
       "      <td>-12.045372</td>\n",
       "      <td>11.104166</td>\n",
       "      <td>-7.787527</td>\n",
       "      <td>-12.555712</td>\n",
       "    </tr>\n",
       "    <tr>\n",
       "      <th>3</th>\n",
       "      <td>0</td>\n",
       "      <td>-3.100921</td>\n",
       "      <td>-11.831434</td>\n",
       "      <td>-12.045849</td>\n",
       "      <td>11.097178</td>\n",
       "      <td>-7.782445</td>\n",
       "      <td>-12.558888</td>\n",
       "    </tr>\n",
       "    <tr>\n",
       "      <th>4</th>\n",
       "      <td>0</td>\n",
       "      <td>-3.099968</td>\n",
       "      <td>-11.832863</td>\n",
       "      <td>-12.045849</td>\n",
       "      <td>11.097178</td>\n",
       "      <td>-7.789433</td>\n",
       "      <td>-12.564605</td>\n",
       "    </tr>\n",
       "  </tbody>\n",
       "</table>\n",
       "</div>"
      ],
      "text/plain": [
       "   time (s)  NS1_data   EW1_data   UD1_data   NS2_data  EW2_data   UD2_data\n",
       "0         0 -3.099968 -11.831910 -12.046325  11.090826 -7.788798 -12.562064\n",
       "1         0 -3.100445 -11.832863 -12.045372  11.101625 -7.792609 -12.556347\n",
       "2         0 -3.100921 -11.831434 -12.045372  11.104166 -7.787527 -12.555712\n",
       "3         0 -3.100921 -11.831434 -12.045849  11.097178 -7.782445 -12.558888\n",
       "4         0 -3.099968 -11.832863 -12.045849  11.097178 -7.789433 -12.564605"
      ]
     },
     "execution_count": 17,
     "metadata": {},
     "output_type": "execute_result"
    }
   ],
   "source": [
    "# load far source data\n",
    "iwth_far_source = load_kiknet_data(f'{cwd}{ALL_DATA_PATH}/IWTH210807240026.csv')\n",
    "iwth_far_source.head()"
   ]
  },
  {
   "cell_type": "code",
   "execution_count": 18,
   "metadata": {},
   "outputs": [],
   "source": [
    "iwth_far_source[\"NS\"] = (iwth_far_source[\"NS1_data\"] + iwth_far_source[\"NS2_data\"])/2\n",
    "iwth_far_source[\"EW\"] = (iwth_far_source[\"EW1_data\"] + iwth_far_source[\"EW2_data\"])/2\n",
    "iwth_far_source[\"UD\"] = (iwth_far_source[\"UD1_data\"] + iwth_far_source[\"UD2_data\"])/2"
   ]
  },
  {
   "cell_type": "code",
   "execution_count": 19,
   "metadata": {},
   "outputs": [
    {
     "data": {
      "text/html": [
       "<div>\n",
       "<style scoped>\n",
       "    .dataframe tbody tr th:only-of-type {\n",
       "        vertical-align: middle;\n",
       "    }\n",
       "\n",
       "    .dataframe tbody tr th {\n",
       "        vertical-align: top;\n",
       "    }\n",
       "\n",
       "    .dataframe thead th {\n",
       "        text-align: right;\n",
       "    }\n",
       "</style>\n",
       "<table border=\"1\" class=\"dataframe\">\n",
       "  <thead>\n",
       "    <tr style=\"text-align: right;\">\n",
       "      <th></th>\n",
       "      <th>time (s)</th>\n",
       "      <th>NS1_data</th>\n",
       "      <th>EW1_data</th>\n",
       "      <th>UD1_data</th>\n",
       "      <th>NS2_data</th>\n",
       "      <th>EW2_data</th>\n",
       "      <th>UD2_data</th>\n",
       "      <th>NS</th>\n",
       "      <th>EW</th>\n",
       "      <th>UD</th>\n",
       "    </tr>\n",
       "  </thead>\n",
       "  <tbody>\n",
       "    <tr>\n",
       "      <th>20395</th>\n",
       "      <td>203</td>\n",
       "      <td>-3.039455</td>\n",
       "      <td>-11.910053</td>\n",
       "      <td>-12.043943</td>\n",
       "      <td>11.154986</td>\n",
       "      <td>-7.981914</td>\n",
       "      <td>-12.771697</td>\n",
       "      <td>4.057765</td>\n",
       "      <td>-9.945983</td>\n",
       "      <td>-12.407820</td>\n",
       "    </tr>\n",
       "    <tr>\n",
       "      <th>20396</th>\n",
       "      <td>203</td>\n",
       "      <td>-3.025637</td>\n",
       "      <td>-11.911006</td>\n",
       "      <td>-12.022025</td>\n",
       "      <td>11.238839</td>\n",
       "      <td>-8.140091</td>\n",
       "      <td>-12.625589</td>\n",
       "      <td>4.106601</td>\n",
       "      <td>-10.025548</td>\n",
       "      <td>-12.323807</td>\n",
       "    </tr>\n",
       "    <tr>\n",
       "      <th>20397</th>\n",
       "      <td>203</td>\n",
       "      <td>-3.014202</td>\n",
       "      <td>-11.897664</td>\n",
       "      <td>-12.027743</td>\n",
       "      <td>11.410357</td>\n",
       "      <td>-8.136914</td>\n",
       "      <td>-12.411510</td>\n",
       "      <td>4.198077</td>\n",
       "      <td>-10.017289</td>\n",
       "      <td>-12.219626</td>\n",
       "    </tr>\n",
       "    <tr>\n",
       "      <th>20398</th>\n",
       "      <td>203</td>\n",
       "      <td>-3.025637</td>\n",
       "      <td>-11.882417</td>\n",
       "      <td>-12.041084</td>\n",
       "      <td>11.566628</td>\n",
       "      <td>-7.919024</td>\n",
       "      <td>-12.450261</td>\n",
       "      <td>4.270495</td>\n",
       "      <td>-9.900720</td>\n",
       "      <td>-12.245672</td>\n",
       "    </tr>\n",
       "    <tr>\n",
       "      <th>20399</th>\n",
       "      <td>203</td>\n",
       "      <td>-3.027067</td>\n",
       "      <td>-11.891946</td>\n",
       "      <td>-12.038225</td>\n",
       "      <td>11.524702</td>\n",
       "      <td>-7.808490</td>\n",
       "      <td>-12.575405</td>\n",
       "      <td>4.248817</td>\n",
       "      <td>-9.850218</td>\n",
       "      <td>-12.306815</td>\n",
       "    </tr>\n",
       "  </tbody>\n",
       "</table>\n",
       "</div>"
      ],
      "text/plain": [
       "       time (s)  NS1_data   EW1_data   UD1_data   NS2_data  EW2_data  \\\n",
       "20395       203 -3.039455 -11.910053 -12.043943  11.154986 -7.981914   \n",
       "20396       203 -3.025637 -11.911006 -12.022025  11.238839 -8.140091   \n",
       "20397       203 -3.014202 -11.897664 -12.027743  11.410357 -8.136914   \n",
       "20398       203 -3.025637 -11.882417 -12.041084  11.566628 -7.919024   \n",
       "20399       203 -3.027067 -11.891946 -12.038225  11.524702 -7.808490   \n",
       "\n",
       "        UD2_data        NS         EW         UD  \n",
       "20395 -12.771697  4.057765  -9.945983 -12.407820  \n",
       "20396 -12.625589  4.106601 -10.025548 -12.323807  \n",
       "20397 -12.411510  4.198077 -10.017289 -12.219626  \n",
       "20398 -12.450261  4.270495  -9.900720 -12.245672  \n",
       "20399 -12.575405  4.248817  -9.850218 -12.306815  "
      ]
     },
     "execution_count": 19,
     "metadata": {},
     "output_type": "execute_result"
    }
   ],
   "source": [
    "iwth_far_source.tail()"
   ]
  },
  {
   "cell_type": "code",
   "execution_count": 20,
   "metadata": {},
   "outputs": [
    {
     "data": {
      "text/plain": [
       "<AxesSubplot:xlabel='time (s)'>"
      ]
     },
     "execution_count": 20,
     "metadata": {},
     "output_type": "execute_result"
    },
    {
     "data": {
      "image/png": "[encoded data removed]",
      "text/plain": [
       "<Figure size 432x288 with 1 Axes>"
      ]
     },
     "metadata": {
      "needs_background": "light"
     },
     "output_type": "display_data"
    }
   ],
   "source": [
    "ax = plt.gca()\n",
    "iwth_far_source.plot( x = 'time (s)' , y = 'NS', ax = ax )\n",
    "iwth_far_source.plot( x = 'time (s)' , y = 'EW', ax = ax )\n",
    "iwth_far_source.plot( x = 'time (s)' , y = 'UD', ax = ax )"
   ]
  },
  {
   "cell_type": "code",
   "execution_count": 28,
   "metadata": {},
   "outputs": [
    {
     "data": {
      "text/plain": [
       "<AxesSubplot:xlabel='time (s)'>"
      ]
     },
     "execution_count": 28,
     "metadata": {},
     "output_type": "execute_result"
    },
    {
     "data": {
      "image/png": "[encoded data removed]",
      "text/plain": [
       "<Figure size 432x288 with 1 Axes>"
      ]
     },
     "metadata": {
      "needs_background": "light"
     },
     "output_type": "display_data"
    }
   ],
   "source": [
    "ax = plt.gca()\n",
    "iwth_far_source.plot( x = 'time (s)' , y = 'NS2_data', ax = ax )\n",
    "iwth_far_source.plot( x = 'time (s)' , y = 'EW2_data', ax = ax )\n",
    "iwth_far_source.plot( x = 'time (s)' , y = 'UD2_data', ax = ax )"
   ]
  },
  {
   "cell_type": "code",
   "execution_count": 21,
   "metadata": {},
   "outputs": [
    {
     "name": "stdout",
     "output_type": "stream",
     "text": [
      "/home/adebowale/code/proj/kik_knet_data/all_data/TCGH071212171848.csv\n"
     ]
    },
    {
     "data": {
      "text/html": [
       "<div>\n",
       "<style scoped>\n",
       "    .dataframe tbody tr th:only-of-type {\n",
       "        vertical-align: middle;\n",
       "    }\n",
       "\n",
       "    .dataframe tbody tr th {\n",
       "        vertical-align: top;\n",
       "    }\n",
       "\n",
       "    .dataframe thead th {\n",
       "        text-align: right;\n",
       "    }\n",
       "</style>\n",
       "<table border=\"1\" class=\"dataframe\">\n",
       "  <thead>\n",
       "    <tr style=\"text-align: right;\">\n",
       "      <th></th>\n",
       "      <th>time (s)</th>\n",
       "      <th>NS1_data</th>\n",
       "      <th>EW1_data</th>\n",
       "      <th>UD1_data</th>\n",
       "      <th>NS2_data</th>\n",
       "      <th>EW2_data</th>\n",
       "      <th>UD2_data</th>\n",
       "    </tr>\n",
       "  </thead>\n",
       "  <tbody>\n",
       "    <tr>\n",
       "      <th>0</th>\n",
       "      <td>0</td>\n",
       "      <td>87.323709</td>\n",
       "      <td>74.728957</td>\n",
       "      <td>40.898042</td>\n",
       "      <td>14.116521</td>\n",
       "      <td>5.246528</td>\n",
       "      <td>10.324715</td>\n",
       "    </tr>\n",
       "    <tr>\n",
       "      <th>1</th>\n",
       "      <td>0</td>\n",
       "      <td>87.323709</td>\n",
       "      <td>74.729433</td>\n",
       "      <td>40.897089</td>\n",
       "      <td>14.119062</td>\n",
       "      <td>5.242081</td>\n",
       "      <td>10.325350</td>\n",
       "    </tr>\n",
       "    <tr>\n",
       "      <th>2</th>\n",
       "      <td>0</td>\n",
       "      <td>87.323232</td>\n",
       "      <td>74.729433</td>\n",
       "      <td>40.897089</td>\n",
       "      <td>14.120332</td>\n",
       "      <td>5.242716</td>\n",
       "      <td>10.327891</td>\n",
       "    </tr>\n",
       "    <tr>\n",
       "      <th>3</th>\n",
       "      <td>0</td>\n",
       "      <td>87.323232</td>\n",
       "      <td>74.729433</td>\n",
       "      <td>40.898042</td>\n",
       "      <td>14.115250</td>\n",
       "      <td>5.246528</td>\n",
       "      <td>10.329161</td>\n",
       "    </tr>\n",
       "    <tr>\n",
       "      <th>4</th>\n",
       "      <td>0</td>\n",
       "      <td>87.323232</td>\n",
       "      <td>74.729433</td>\n",
       "      <td>40.898042</td>\n",
       "      <td>14.108262</td>\n",
       "      <td>5.249704</td>\n",
       "      <td>10.327891</td>\n",
       "    </tr>\n",
       "  </tbody>\n",
       "</table>\n",
       "</div>"
      ],
      "text/plain": [
       "   time (s)   NS1_data   EW1_data   UD1_data   NS2_data  EW2_data   UD2_data\n",
       "0         0  87.323709  74.728957  40.898042  14.116521  5.246528  10.324715\n",
       "1         0  87.323709  74.729433  40.897089  14.119062  5.242081  10.325350\n",
       "2         0  87.323232  74.729433  40.897089  14.120332  5.242716  10.327891\n",
       "3         0  87.323232  74.729433  40.898042  14.115250  5.246528  10.329161\n",
       "4         0  87.323232  74.729433  40.898042  14.108262  5.249704  10.327891"
      ]
     },
     "execution_count": 21,
     "metadata": {},
     "output_type": "execute_result"
    }
   ],
   "source": [
    "# load near source data\n",
    "tcgh_near_source = load_kiknet_data(f'{cwd}{ALL_DATA_PATH}/TCGH071212171848.csv')\n",
    "tcgh_near_source.head()"
   ]
  },
  {
   "cell_type": "code",
   "execution_count": 22,
   "metadata": {},
   "outputs": [],
   "source": [
    "tcgh_near_source[\"NS\"] = (tcgh_near_source[\"NS1_data\"] + tcgh_near_source[\"NS2_data\"])/2\n",
    "tcgh_near_source[\"EW\"] = (tcgh_near_source[\"EW1_data\"] + tcgh_near_source[\"EW2_data\"])/2\n",
    "tcgh_near_source[\"UD\"] = (tcgh_near_source[\"UD1_data\"] + tcgh_near_source[\"UD2_data\"])/2"
   ]
  },
  {
   "cell_type": "code",
   "execution_count": 23,
   "metadata": {},
   "outputs": [
    {
     "data": {
      "text/html": [
       "<div>\n",
       "<style scoped>\n",
       "    .dataframe tbody tr th:only-of-type {\n",
       "        vertical-align: middle;\n",
       "    }\n",
       "\n",
       "    .dataframe tbody tr th {\n",
       "        vertical-align: top;\n",
       "    }\n",
       "\n",
       "    .dataframe thead th {\n",
       "        text-align: right;\n",
       "    }\n",
       "</style>\n",
       "<table border=\"1\" class=\"dataframe\">\n",
       "  <thead>\n",
       "    <tr style=\"text-align: right;\">\n",
       "      <th></th>\n",
       "      <th>time (s)</th>\n",
       "      <th>NS1_data</th>\n",
       "      <th>EW1_data</th>\n",
       "      <th>UD1_data</th>\n",
       "      <th>NS2_data</th>\n",
       "      <th>EW2_data</th>\n",
       "      <th>UD2_data</th>\n",
       "      <th>NS</th>\n",
       "      <th>EW</th>\n",
       "      <th>UD</th>\n",
       "    </tr>\n",
       "  </thead>\n",
       "  <tbody>\n",
       "    <tr>\n",
       "      <th>11995</th>\n",
       "      <td>119</td>\n",
       "      <td>87.399469</td>\n",
       "      <td>74.770410</td>\n",
       "      <td>40.904712</td>\n",
       "      <td>14.179410</td>\n",
       "      <td>5.285913</td>\n",
       "      <td>10.323444</td>\n",
       "      <td>50.789440</td>\n",
       "      <td>40.028162</td>\n",
       "      <td>25.614078</td>\n",
       "    </tr>\n",
       "    <tr>\n",
       "      <th>11996</th>\n",
       "      <td>119</td>\n",
       "      <td>87.403281</td>\n",
       "      <td>74.763263</td>\n",
       "      <td>40.907571</td>\n",
       "      <td>14.176869</td>\n",
       "      <td>5.283372</td>\n",
       "      <td>10.306928</td>\n",
       "      <td>50.790075</td>\n",
       "      <td>40.023318</td>\n",
       "      <td>25.607250</td>\n",
       "    </tr>\n",
       "    <tr>\n",
       "      <th>11997</th>\n",
       "      <td>119</td>\n",
       "      <td>87.403281</td>\n",
       "      <td>74.769934</td>\n",
       "      <td>40.907571</td>\n",
       "      <td>14.160988</td>\n",
       "      <td>5.289725</td>\n",
       "      <td>10.322174</td>\n",
       "      <td>50.782134</td>\n",
       "      <td>40.029829</td>\n",
       "      <td>25.614873</td>\n",
       "    </tr>\n",
       "    <tr>\n",
       "      <th>11998</th>\n",
       "      <td>119</td>\n",
       "      <td>87.398039</td>\n",
       "      <td>74.770887</td>\n",
       "      <td>40.904712</td>\n",
       "      <td>14.168611</td>\n",
       "      <td>5.298618</td>\n",
       "      <td>10.337420</td>\n",
       "      <td>50.783325</td>\n",
       "      <td>40.034753</td>\n",
       "      <td>25.621066</td>\n",
       "    </tr>\n",
       "    <tr>\n",
       "      <th>11999</th>\n",
       "      <td>119</td>\n",
       "      <td>87.401375</td>\n",
       "      <td>74.762310</td>\n",
       "      <td>40.906142</td>\n",
       "      <td>14.173693</td>\n",
       "      <td>5.297348</td>\n",
       "      <td>10.323444</td>\n",
       "      <td>50.787534</td>\n",
       "      <td>40.029829</td>\n",
       "      <td>25.614793</td>\n",
       "    </tr>\n",
       "  </tbody>\n",
       "</table>\n",
       "</div>"
      ],
      "text/plain": [
       "       time (s)   NS1_data   EW1_data   UD1_data   NS2_data  EW2_data  \\\n",
       "11995       119  87.399469  74.770410  40.904712  14.179410  5.285913   \n",
       "11996       119  87.403281  74.763263  40.907571  14.176869  5.283372   \n",
       "11997       119  87.403281  74.769934  40.907571  14.160988  5.289725   \n",
       "11998       119  87.398039  74.770887  40.904712  14.168611  5.298618   \n",
       "11999       119  87.401375  74.762310  40.906142  14.173693  5.297348   \n",
       "\n",
       "        UD2_data         NS         EW         UD  \n",
       "11995  10.323444  50.789440  40.028162  25.614078  \n",
       "11996  10.306928  50.790075  40.023318  25.607250  \n",
       "11997  10.322174  50.782134  40.029829  25.614873  \n",
       "11998  10.337420  50.783325  40.034753  25.621066  \n",
       "11999  10.323444  50.787534  40.029829  25.614793  "
      ]
     },
     "execution_count": 23,
     "metadata": {},
     "output_type": "execute_result"
    }
   ],
   "source": [
    "tcgh_near_source.tail()"
   ]
  },
  {
   "cell_type": "code",
   "execution_count": 24,
   "metadata": {},
   "outputs": [
    {
     "data": {
      "text/plain": [
       "<AxesSubplot:xlabel='time (s)'>"
      ]
     },
     "execution_count": 24,
     "metadata": {},
     "output_type": "execute_result"
    },
    {
     "data": {
      "image/png": "[encoded data removed]",
      "text/plain": [
       "<Figure size 432x288 with 1 Axes>"
      ]
     },
     "metadata": {
      "needs_background": "light"
     },
     "output_type": "display_data"
    }
   ],
   "source": [
    "ax = plt.gca()\n",
    "tcgh_near_source.plot( x = 'time (s)' , y = 'NS', ax = ax )\n",
    "tcgh_near_source.plot( x = 'time (s)' , y = 'EW', ax = ax )\n",
    "tcgh_near_source.plot( x = 'time (s)' , y = 'UD', ax = ax )"
   ]
  },
  {
   "cell_type": "code",
   "execution_count": 25,
   "metadata": {},
   "outputs": [],
   "source": [
    "# channel_map = {\n",
    "#         '1': 'NS1', '2': 'EW1', '3': 'UD1',\n",
    "#         '4': 'NS2', '5': 'EW2', '6': 'UD2'\n",
    "#     }\n",
    "max_acc = {\n",
    "    'NS1_data': 145.98,\n",
    "    'NS2_data': 630.67,\n",
    "    'EW1_data': 127.51,\n",
    "    'EW2_data': 338.28,\n",
    "    'UD1_data': 81.6,\n",
    "    'UD2_data': 520.08\n",
    "}\n",
    "def normalise(name):\n",
    "    col = tcgh_near_source[name]\n",
    "    mn, mx = col.min(), col.max()\n",
    "    z = (col - mn) / (mx - mn)\n",
    "    return z * max_acc[name]\n",
    "\n",
    "tcgh_near_source[\"NNS1\"] = normalise(\"NS1_data\")\n",
    "tcgh_near_source[\"NEW1\"] = normalise(\"EW1_data\")\n",
    "tcgh_near_source[\"NUD1\"] = normalise(\"UD1_data\")\n",
    "tcgh_near_source[\"NNS2\"] = normalise(\"NS2_data\")\n",
    "tcgh_near_source[\"NEW2\"] = normalise(\"EW2_data\")\n",
    "tcgh_near_source[\"NUD2\"] = normalise(\"UD2_data\")\n",
    "\n",
    "tcgh_near_source[\"NNS\"] = (tcgh_near_source[\"NNS1\"] + tcgh_near_source[\"NNS2\"])/2\n",
    "tcgh_near_source[\"NEW\"] = (tcgh_near_source[\"NEW1\"] + tcgh_near_source[\"NEW2\"])/2\n",
    "tcgh_near_source[\"NUD\"] = (tcgh_near_source[\"NUD1\"] + tcgh_near_source[\"NUD2\"])/2"
   ]
  },
  {
   "cell_type": "code",
   "execution_count": 26,
   "metadata": {},
   "outputs": [
    {
     "data": {
      "text/plain": [
       "<AxesSubplot:xlabel='time (s)'>"
      ]
     },
     "execution_count": 26,
     "metadata": {},
     "output_type": "execute_result"
    },
    {
     "data": {
      "image/png": "[encoded data removed]",
      "text/plain": [
       "<Figure size 432x288 with 1 Axes>"
      ]
     },
     "metadata": {
      "needs_background": "light"
     },
     "output_type": "display_data"
    }
   ],
   "source": [
    "ax = plt.gca()\n",
    "# tcgh_near_source.plot( x = 'time (s)' , y = 'NS1_data', ax = ax )\n",
    "# tcgh_near_source.plot( x = 'time (s)' , y = 'EW1_data', ax = ax )\n",
    "# tcgh_near_source.plot( x = 'time (s)' , y = 'UD1_data', ax = ax )\n",
    "tcgh_near_source.plot( x = 'time (s)' , y = 'NS2_data', ax = ax )\n",
    "tcgh_near_source.plot( x = 'time (s)' , y = 'EW2_data', ax = ax )\n",
    "tcgh_near_source.plot( x = 'time (s)' , y = 'UD2_data', ax = ax )"
   ]
  },
  {
   "cell_type": "code",
   "execution_count": 39,
   "metadata": {},
   "outputs": [
    {
     "data": {
      "image/png": "[encoded data removed]",
      "text/plain": [
       "<Figure size 864x576 with 1 Axes>"
      ]
     },
     "metadata": {
      "needs_background": "light"
     },
     "output_type": "display_data"
    }
   ],
   "source": [
    "tcgh_range = tcgh_near_source.loc[(tcgh_near_source['time (s)'] >= 15) & (tcgh_near_source['time (s)'] <= 20)]\n",
    "# ax = plt.gca()\n",
    "# tcgh_range.plot( x = 'time (s)' , y = 'NS2_data')\n",
    "# tcgh_range.plot( x = 'time (s)' , y = 'EW2_data')\n",
    "# tcgh_range.plot( x = 'time (s)' , y = 'UD2_data')\n",
    "fig = plt.figure(figsize=(12, 8))\n",
    "plt.plot(tcgh_range['time (s)'], tcgh_range['NS2_data'], label='NS2_data', linewidth=3)\n",
    "plt.plot(tcgh_range['time (s)'], tcgh_range['EW2_data'], label='EW2_data', linewidth=3, color='red')\n",
    "plt.plot(tcgh_range['time (s)'], tcgh_range['EW2_data'], label='UD2_data', linewidth=3, color='green')\n",
    "plt.tight_layout()\n",
    "\n",
    "# Display plot\n",
    "\n",
    "plt.show()"
   ]
  },
  {
   "cell_type": "code",
   "execution_count": null,
   "metadata": {},
   "outputs": [],
   "source": []
  }
 ],
 "metadata": {
  "interpreter": {
   "hash": "e7370f93d1d0cde622a1f8e1c04877d8463912d04d973331ad4851f04de6915a"
  },
  "kernelspec": {
   "display_name": "Python 3.8.10 64-bit",
   "language": "python",
   "name": "python3"
  },
  "language_info": {
   "codemirror_mode": {
    "name": "ipython",
    "version": 3
   },
   "file_extension": ".py",
   "mimetype": "text/x-python",
   "name": "python",
   "nbconvert_exporter": "python",
   "pygments_lexer": "ipython3",
   "version": "3.8.10"
  },
  "orig_nbformat": 4
 },
 "nbformat": 4,
 "nbformat_minor": 2
}
