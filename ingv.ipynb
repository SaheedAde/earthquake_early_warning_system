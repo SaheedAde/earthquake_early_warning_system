{
 "cells": [
  {
   "cell_type": "code",
   "execution_count": 1,
   "metadata": {},
   "outputs": [],
   "source": [
    "# verify p-onset pickingg\n",
    "\n",
    "import string\n",
    "import argparse as ap\n",
    "import sys\n",
    "import os\n",
    "import numpy as np\n",
    "\n",
    "import obspy\n",
    "import obspy.core as oc\n",
    "from obspy import read_inventory\n",
    "\n",
    "# from datetime import datetime, timedelta\n",
    "import time\n",
    "\n",
    "import pylab as plt\n",
    "import pandas as pd\n",
    "import h5py\n",
    "\n",
    "\n",
    "import matplotlib as mpl\n",
    "import matplotlib.pyplot as plt\n",
    "from matplotlib.dates import date2num\n",
    "from matplotlib.lines import Line2D\n",
    "import matplotlib.dates as mdates\n",
    "import matplotlib.gridspec as gridspec\n",
    "import datetime\n",
    "import warnings\n",
    "\n",
    "mpl.rcParams['pdf.fonttype'] = 42"
   ]
  },
  {
   "cell_type": "code",
   "execution_count": 2,
   "metadata": {},
   "outputs": [],
   "source": [
    "# directory PATH\n",
    "METADIR = './ingv_metadata'\n",
    "HDFDIR = './ingv_data'\n",
    "FIGDIR='./ingv_output'\n",
    "\n",
    "# file NAMES\n",
    "# MetaData\n",
    "events_metaname=os.path.join(METADIR, 'metadata_Instance_events_v2.csv') # Either Counts and GroundMotion\n",
    "noise_metaname=os.path.join(METADIR, 'metadata_Instance_noise.csv')\n",
    "# HDF5\n",
    "events_hdfname=os.path.join(HDFDIR, 'Instance_events_counts.hdf5')\n",
    "# gm_hdfname=os.path.join(HDFDIR,'Instance_events_gm_10k.hdf5')\n",
    "noise_hdfname=os.path.join(HDFDIR,'Instance_noise.hdf5')\n",
    "# Figures\n",
    "# events_figname=os.path.join(FIGDIR,'waveforms_Evs.png')\n",
    "# gm_figname=os.path.join(FIGDIR,'waveforms_Evs_gm.png')\n",
    "# noise_figname=os.path.join(FIGDIR,'waveforms_Noise.png')"
   ]
  },
  {
   "cell_type": "code",
   "execution_count": 4,
   "metadata": {},
   "outputs": [],
   "source": [
    "# read metadata for events and nois\n",
    "events_metaData = pd.read_csv(\n",
    "    events_metaname, keep_default_na=False,\n",
    "    dtype={\n",
    "        'station_location_code': object, 'source_mt_eval_mode': object,\n",
    "        'source_mt_status': object,'source_mechanism_strike_dip_rake': object,\n",
    "        'source_mechanism_moment_tensor': object, 'trace_p_arrival_time': object,\n",
    "        'trace_s_arrival_time': object\n",
    "    },\n",
    "    low_memory=False)\n",
    "\n",
    "noise_metaData = pd.read_csv(\n",
    "    noise_metaname, dtype={'station_location_code': object},\n",
    "    low_memory=False)"
   ]
  },
  {
   "cell_type": "code",
   "execution_count": 5,
   "metadata": {},
   "outputs": [],
   "source": [
    "# read waveform\n",
    "events_h5File = h5py.File(events_hdfname, 'r') # Events in counts\n",
    "# gm_h5File = h5py.File(gm_hdfname, 'r')         # Events in ground motion units\n",
    "noise_h5File = h5py.File(noise_hdfname, 'r')   # Noise in counts"
   ]
  },
  {
   "cell_type": "code",
   "execution_count": null,
   "metadata": {},
   "outputs": [],
   "source": []
  }
 ],
 "metadata": {
  "kernelspec": {
   "display_name": "Python 3.8.10 64-bit",
   "language": "python",
   "name": "python3"
  },
  "language_info": {
   "codemirror_mode": {
    "name": "ipython",
    "version": 3
   },
   "file_extension": ".py",
   "mimetype": "text/x-python",
   "name": "python",
   "nbconvert_exporter": "python",
   "pygments_lexer": "ipython3",
   "version": "3.8.10"
  },
  "orig_nbformat": 4,
  "vscode": {
   "interpreter": {
    "hash": "e7370f93d1d0cde622a1f8e1c04877d8463912d04d973331ad4851f04de6915a"
   }
  }
 },
 "nbformat": 4,
 "nbformat_minor": 2
}
