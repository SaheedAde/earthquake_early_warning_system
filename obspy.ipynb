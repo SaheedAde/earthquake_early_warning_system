{
 "cells": [
  {
   "cell_type": "code",
   "execution_count": 4,
   "metadata": {},
   "outputs": [
    {
     "name": "stdout",
     "output_type": "stream",
     "text": [
      "/home/adebowale/code/proj/kik_knet_data/all_data/selecteddata/*/*.*\n",
      "960 Trace(s) in Stream:\n",
      "\n",
      "BO.AKTH04..EW1 | 2008-06-13T23:43:34.000000Z - 2008-06-13T23:48:33.990000Z | 100.0 Hz, 30000 samples\n",
      "...\n",
      "(958 other traces)\n",
      "...\n",
      "BO... | 1970-01-01T00:00:00.000000Z - 1970-01-01T00:00:00.000000Z | 1.0 Hz, 0 samples\n",
      "\n",
      "[Use \"print(Stream.__str__(extended=True))\" to print all Traces]\n"
     ]
    }
   ],
   "source": [
    "import obspy\n",
    "import os\n",
    "import csv\n",
    "\n",
    "cwd = os.getcwd()\n",
    "DATA_PATH = '/kik_knet_data'\n",
    "ALL_DATA_PATH = f'{DATA_PATH}/all_data'\n",
    "RAW_DATA_PATH = f'{ALL_DATA_PATH}/selecteddata'\n",
    "k = cwd + RAW_DATA_PATH + '/*/*.*'\n",
    "print(k)\n",
    "# Format will be detected automatically.\n",
    "st = obspy.read(k, format=\"knet\")\n",
    "# print(st)\n",
    "# Many formats can also be written out - just use the module name.\n",
    "# st.write(cwd + '/hey', format=\"pickle\")\n",
    "# # import pandas as pd\n",
    "# # unpickled_df = pd.read_pickle(\"./hey\")\n",
    "# # unpickled_df\n",
    "\n",
    "# import pickle\n",
    "# data = pickle.load(open('./hey', \"rb\"))\n",
    "# print(data[0], type(data))\n",
    "# print(dir(st[0]))\n",
    "# st.plot()\n",
    "# print(len(st))"
   ]
  },
  {
   "cell_type": "code",
   "execution_count": 5,
   "metadata": {},
   "outputs": [
    {
     "name": "stdout",
     "output_type": "stream",
     "text": [
      "960 Trace(s) in Stream:\n",
      "\n",
      "BO.AKTH04..EW1 | 2008-06-13T23:43:34.000000Z - 2008-06-13T23:48:33.990000Z | 100.0 Hz, 30000 samples\n",
      "...\n",
      "(958 other traces)\n",
      "...\n",
      "BO... | 1970-01-01T00:00:00.000000Z - 1970-01-01T00:00:00.000000Z | 1.0 Hz, 0 samples\n",
      "\n",
      "[Use \"print(Stream.__str__(extended=True))\" to print all Traces]\n"
     ]
    }
   ],
   "source": [
    "print(st)"
   ]
  },
  {
   "cell_type": "code",
   "execution_count": 6,
   "metadata": {},
   "outputs": [],
   "source": [
    "tr = st[500]"
   ]
  },
  {
   "cell_type": "code",
   "execution_count": 8,
   "metadata": {},
   "outputs": [
    {
     "data": {
      "text/plain": [
       "         network: BO\n",
       "         station: KMMH02\n",
       "        location: \n",
       "         channel: UD1\n",
       "       starttime: 2016-04-15T16:24:59.000000Z\n",
       "         endtime: 2016-04-15T16:29:58.990000Z\n",
       "   sampling_rate: 100.0\n",
       "           delta: 0.01\n",
       "            npts: 30000\n",
       "           calib: 4.764783388733394e-06\n",
       "         _format: KNET\n",
       "            knet: AttribDict({'evot': UTCDateTime(2016, 4, 15, 16, 25), 'evla': 32.753, 'evlo': 130.762, 'evdp': 12.0, 'mag': 7.3, 'stla': 33.122, 'stlo': 131.0629, 'stel': 306.45, 'duration': 300.0, 'accmax': 71.922, 'last correction': UTCDateTime(2016, 4, 15, 16, 24, 59)})"
      ]
     },
     "execution_count": 8,
     "metadata": {},
     "output_type": "execute_result"
    }
   ],
   "source": [
    "tr.stats"
   ]
  },
  {
   "cell_type": "code",
   "execution_count": 9,
   "metadata": {},
   "outputs": [
    {
     "data": {
      "text/plain": [
       "array([16758., 16759., 16759., ..., 16571., 16690., 16940.])"
      ]
     },
     "execution_count": 9,
     "metadata": {},
     "output_type": "execute_result"
    }
   ],
   "source": [
    "tr.data"
   ]
  },
  {
   "cell_type": "code",
   "execution_count": null,
   "metadata": {},
   "outputs": [],
   "source": []
  }
 ],
 "metadata": {
  "kernelspec": {
   "display_name": "Python 3.8.10 64-bit",
   "language": "python",
   "name": "python3"
  },
  "language_info": {
   "codemirror_mode": {
    "name": "ipython",
    "version": 3
   },
   "file_extension": ".py",
   "mimetype": "text/x-python",
   "name": "python",
   "nbconvert_exporter": "python",
   "pygments_lexer": "ipython3",
   "version": "3.8.10"
  },
  "orig_nbformat": 4,
  "vscode": {
   "interpreter": {
    "hash": "e7370f93d1d0cde622a1f8e1c04877d8463912d04d973331ad4851f04de6915a"
   }
  }
 },
 "nbformat": 4,
 "nbformat_minor": 2
}
